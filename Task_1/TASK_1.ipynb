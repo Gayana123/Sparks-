{
  "nbformat": 4,
  "nbformat_minor": 0,
  "metadata": {
    "colab": {
      "name": "TASK 1.ipynb",
      "provenance": [],
      "collapsed_sections": []
    },
    "kernelspec": {
      "name": "python3",
      "display_name": "Python 3"
    },
    "language_info": {
      "name": "python"
    }
  },
  "cells": [
    {
      "cell_type": "code",
      "metadata": {
        "colab": {
          "base_uri": "https://localhost:8080/"
        },
        "id": "GGXtXqRW81KQ",
        "outputId": "472d463d-b910-465e-988b-1b9a95cba90a"
      },
      "source": [
        "from google.colab import drive\n",
        "drive.mount('/content/drive/')"
      ],
      "execution_count": 1,
      "outputs": [
        {
          "output_type": "stream",
          "text": [
            "Mounted at /content/drive/\n"
          ],
          "name": "stdout"
        }
      ]
    },
    {
      "cell_type": "markdown",
      "metadata": {
        "id": "japHGrh09i3P"
      },
      "source": [
        "**TASK 1**\n",
        "\n",
        "Prediction Using Supervised Machine Learning\n",
        "Level - Intermediate\n",
        "\n",
        "\n",
        "*   Creating Decision Tree classifier and visualize it graphically.\n",
        "*   The purpose is if we feed any data to this classifier, it would be able to predict the right class accordingly.\n",
        "\n",
        "\n",
        "*   Dataset : https://raw.githubusercontent.com/AdiPersonalWorks/Random/master/student_scores%20-%20student_scores.csv.\n",
        "\n",
        "**Supervised Learning**\n",
        "\n",
        "Supervised learning is the machine learning tast of learning a function that maps an input to an output based on example input-output pairs. it infrs a function from labled training data consisting of a set traing examples.\n",
        "\n",
        "**Regrssion**\n",
        "\n",
        "Regression models describe the relationship between variables by fitting a line to the observed data. Linear regression models use a straight line, while logistic and nonlinear regression models use a curved line. Regression allows you to estimate how a dependent variable changes as the independent variable(s) change.\n",
        "\n",
        "**Simple Linear Regression**\n",
        "\n",
        "Simple linear regression is a statistical method that allows us to summarize and study relationships between two continuous (quantitative) variables.\n",
        "\n",
        "Simple linear regression uses two variables where one independent variable to explain or predict the outcome of the dependent variable Y, while multiple linear regression uses two or more independent variables to predict the outcome.\n",
        "\n",
        "**Task**\n",
        "\n",
        "To Predict the percentage of an student based on the number of study hours using supervised and simple linear regression method.\n",
        "\n",
        "\n",
        "\n",
        "\n"
      ]
    },
    {
      "cell_type": "markdown",
      "metadata": {
        "id": "n79WTjz9DX0b"
      },
      "source": [
        "**Importing The Required Libraries**"
      ]
    },
    {
      "cell_type": "code",
      "metadata": {
        "id": "ThKXgAmeDR6w"
      },
      "source": [
        "import pandas as pd \n",
        "import seaborn as sns\n",
        "import matplotlib.pyplot as plt\n",
        "import numpy as np \n",
        "%matplotlib inline"
      ],
      "execution_count": 2,
      "outputs": []
    },
    {
      "cell_type": "code",
      "metadata": {
        "colab": {
          "base_uri": "https://localhost:8080/",
          "height": 229
        },
        "id": "o5CqfpHEDoQx",
        "outputId": "d158bc95-c2d7-4da0-e40e-a062e1793a6b"
      },
      "source": [
        "## to read the data from the given link\n",
        "\n",
        "data = pd.read_csv(r\"https://raw.githubusercontent.com/AdiPersonalWorks/Random/master/student_scores%20-%20student_scores.csv\")\n",
        "print(\"The data has been loaded\")\n",
        "print(\"The shape of the dataframe is =\",data.shape)\n",
        "data.head()"
      ],
      "execution_count": 5,
      "outputs": [
        {
          "output_type": "stream",
          "text": [
            "The data has been loaded\n",
            "The shape of the dataframe is = (25, 2)\n"
          ],
          "name": "stdout"
        },
        {
          "output_type": "execute_result",
          "data": {
            "text/html": [
              "<div>\n",
              "<style scoped>\n",
              "    .dataframe tbody tr th:only-of-type {\n",
              "        vertical-align: middle;\n",
              "    }\n",
              "\n",
              "    .dataframe tbody tr th {\n",
              "        vertical-align: top;\n",
              "    }\n",
              "\n",
              "    .dataframe thead th {\n",
              "        text-align: right;\n",
              "    }\n",
              "</style>\n",
              "<table border=\"1\" class=\"dataframe\">\n",
              "  <thead>\n",
              "    <tr style=\"text-align: right;\">\n",
              "      <th></th>\n",
              "      <th>Hours</th>\n",
              "      <th>Scores</th>\n",
              "    </tr>\n",
              "  </thead>\n",
              "  <tbody>\n",
              "    <tr>\n",
              "      <th>0</th>\n",
              "      <td>2.5</td>\n",
              "      <td>21</td>\n",
              "    </tr>\n",
              "    <tr>\n",
              "      <th>1</th>\n",
              "      <td>5.1</td>\n",
              "      <td>47</td>\n",
              "    </tr>\n",
              "    <tr>\n",
              "      <th>2</th>\n",
              "      <td>3.2</td>\n",
              "      <td>27</td>\n",
              "    </tr>\n",
              "    <tr>\n",
              "      <th>3</th>\n",
              "      <td>8.5</td>\n",
              "      <td>75</td>\n",
              "    </tr>\n",
              "    <tr>\n",
              "      <th>4</th>\n",
              "      <td>3.5</td>\n",
              "      <td>30</td>\n",
              "    </tr>\n",
              "  </tbody>\n",
              "</table>\n",
              "</div>"
            ],
            "text/plain": [
              "   Hours  Scores\n",
              "0    2.5      21\n",
              "1    5.1      47\n",
              "2    3.2      27\n",
              "3    8.5      75\n",
              "4    3.5      30"
            ]
          },
          "metadata": {
            "tags": []
          },
          "execution_count": 5
        }
      ]
    },
    {
      "cell_type": "markdown",
      "metadata": {
        "id": "cZjh-lq-JHG0"
      },
      "source": [
        "**From the Data imported we can observe that the data shape is of 25 Rows and 2 Columns.\n",
        "Lets see What are the colums that are present in the dataset** "
      ]
    },
    {
      "cell_type": "code",
      "metadata": {
        "colab": {
          "base_uri": "https://localhost:8080/"
        },
        "id": "kdUcSyZCKDxQ",
        "outputId": "e47641da-debd-42af-a1f6-251b4ce66250"
      },
      "source": [
        "data.columns"
      ],
      "execution_count": 6,
      "outputs": [
        {
          "output_type": "execute_result",
          "data": {
            "text/plain": [
              "Index(['Hours', 'Scores'], dtype='object')"
            ]
          },
          "metadata": {
            "tags": []
          },
          "execution_count": 6
        }
      ]
    },
    {
      "cell_type": "markdown",
      "metadata": {
        "id": "RfoSVXcDKVk2"
      },
      "source": [
        "the columns consist of Hours of study of the students and their respective score"
      ]
    },
    {
      "cell_type": "markdown",
      "metadata": {
        "id": "IE3EfjPVKubq"
      },
      "source": [
        "**Displaying the columns and their very basic information using data.info()**\n",
        "\n",
        "Here the data.info() shows the information about the given dataset including the index datatype and column datatype, non-null values and memory usage."
      ]
    },
    {
      "cell_type": "code",
      "metadata": {
        "colab": {
          "base_uri": "https://localhost:8080/"
        },
        "id": "g6XFMg7OK93F",
        "outputId": "e774e5b3-f3a3-4dd6-9ec7-be66a891fcf0"
      },
      "source": [
        "data.info()"
      ],
      "execution_count": 7,
      "outputs": [
        {
          "output_type": "stream",
          "text": [
            "<class 'pandas.core.frame.DataFrame'>\n",
            "RangeIndex: 25 entries, 0 to 24\n",
            "Data columns (total 2 columns):\n",
            " #   Column  Non-Null Count  Dtype  \n",
            "---  ------  --------------  -----  \n",
            " 0   Hours   25 non-null     float64\n",
            " 1   Scores  25 non-null     int64  \n",
            "dtypes: float64(1), int64(1)\n",
            "memory usage: 528.0 bytes\n"
          ],
          "name": "stdout"
        }
      ]
    },
    {
      "cell_type": "markdown",
      "metadata": {
        "id": "IwFoBFvqLrXs"
      },
      "source": [
        "**Plotting the Relation between the Hours and scores Using the Scatterplot**"
      ]
    },
    {
      "cell_type": "code",
      "metadata": {
        "colab": {
          "base_uri": "https://localhost:8080/",
          "height": 312
        },
        "id": "hxfhnamhMdpM",
        "outputId": "f662af74-7f7d-4117-ec4c-2db55554add7"
      },
      "source": [
        "\n",
        "sns.scatterplot(x=data.Hours,y=data.Scores,data=data).set_title(\"scatter plot - Hours of study vs Score\")"
      ],
      "execution_count": 8,
      "outputs": [
        {
          "output_type": "execute_result",
          "data": {
            "text/plain": [
              "Text(0.5, 1.0, 'scatter plot - Hours of study vs Score')"
            ]
          },
          "metadata": {
            "tags": []
          },
          "execution_count": 8
        },
        {
          "output_type": "display_data",
          "data": {
            "image/png": "[encoded data removed]",
            "text/plain": [
              "<Figure size 432x288 with 1 Axes>"
            ]
          },
          "metadata": {
            "tags": [],
            "needs_background": "light"
          }
        }
      ]
    },
    {
      "cell_type": "code",
      "metadata": {
        "colab": {
          "base_uri": "https://localhost:8080/",
          "height": 312
        },
        "id": "IVSJcJDEMmfS",
        "outputId": "7230d5f3-515a-4aa8-bde1-8398a94317ea"
      },
      "source": [
        "\n",
        "sns.regplot(x=data.Hours,y=data.Scores,data=data).set_title(\"reg plot Hours of study vs Score\")"
      ],
      "execution_count": 9,
      "outputs": [
        {
          "output_type": "execute_result",
          "data": {
            "text/plain": [
              "Text(0.5, 1.0, 'reg plot Hours of study vs Score')"
            ]
          },
          "metadata": {
            "tags": []
          },
          "execution_count": 9
        },
        {
          "output_type": "display_data",
          "data": {
            "image/png": "[encoded data removed]",
            "text/plain": [
              "<Figure size 432x288 with 1 Axes>"
            ]
          },
          "metadata": {
            "tags": [],
            "needs_background": "light"
          }
        }
      ]
    },
    {
      "cell_type": "markdown",
      "metadata": {
        "id": "9x87OuioMwze"
      },
      "source": [
        "We can observe from the plot that there is a linear relation between the Hours of study and Score "
      ]
    },
    {
      "cell_type": "markdown",
      "metadata": {
        "id": "aJseIBqBNW3y"
      },
      "source": [
        "**describe() method is used for calculating some statistical data like percentile, mean and std of the numerical values of the series or DataFrame**"
      ]
    },
    {
      "cell_type": "code",
      "metadata": {
        "colab": {
          "base_uri": "https://localhost:8080/",
          "height": 284
        },
        "id": "Lx2ZA8EENy6K",
        "outputId": "b6450b14-5c2b-48d4-db5a-b748373e6570"
      },
      "source": [
        "data.describe()"
      ],
      "execution_count": 10,
      "outputs": [
        {
          "output_type": "execute_result",
          "data": {
            "text/html": [
              "<div>\n",
              "<style scoped>\n",
              "    .dataframe tbody tr th:only-of-type {\n",
              "        vertical-align: middle;\n",
              "    }\n",
              "\n",
              "    .dataframe tbody tr th {\n",
              "        vertical-align: top;\n",
              "    }\n",
              "\n",
              "    .dataframe thead th {\n",
              "        text-align: right;\n",
              "    }\n",
              "</style>\n",
              "<table border=\"1\" class=\"dataframe\">\n",
              "  <thead>\n",
              "    <tr style=\"text-align: right;\">\n",
              "      <th></th>\n",
              "      <th>Hours</th>\n",
              "      <th>Scores</th>\n",
              "    </tr>\n",
              "  </thead>\n",
              "  <tbody>\n",
              "    <tr>\n",
              "      <th>count</th>\n",
              "      <td>25.000000</td>\n",
              "      <td>25.000000</td>\n",
              "    </tr>\n",
              "    <tr>\n",
              "      <th>mean</th>\n",
              "      <td>5.012000</td>\n",
              "      <td>51.480000</td>\n",
              "    </tr>\n",
              "    <tr>\n",
              "      <th>std</th>\n",
              "      <td>2.525094</td>\n",
              "      <td>25.286887</td>\n",
              "    </tr>\n",
              "    <tr>\n",
              "      <th>min</th>\n",
              "      <td>1.100000</td>\n",
              "      <td>17.000000</td>\n",
              "    </tr>\n",
              "    <tr>\n",
              "      <th>25%</th>\n",
              "      <td>2.700000</td>\n",
              "      <td>30.000000</td>\n",
              "    </tr>\n",
              "    <tr>\n",
              "      <th>50%</th>\n",
              "      <td>4.800000</td>\n",
              "      <td>47.000000</td>\n",
              "    </tr>\n",
              "    <tr>\n",
              "      <th>75%</th>\n",
              "      <td>7.400000</td>\n",
              "      <td>75.000000</td>\n",
              "    </tr>\n",
              "    <tr>\n",
              "      <th>max</th>\n",
              "      <td>9.200000</td>\n",
              "      <td>95.000000</td>\n",
              "    </tr>\n",
              "  </tbody>\n",
              "</table>\n",
              "</div>"
            ],
            "text/plain": [
              "           Hours     Scores\n",
              "count  25.000000  25.000000\n",
              "mean    5.012000  51.480000\n",
              "std     2.525094  25.286887\n",
              "min     1.100000  17.000000\n",
              "25%     2.700000  30.000000\n",
              "50%     4.800000  47.000000\n",
              "75%     7.400000  75.000000\n",
              "max     9.200000  95.000000"
            ]
          },
          "metadata": {
            "tags": []
          },
          "execution_count": 10
        }
      ]
    },
    {
      "cell_type": "markdown",
      "metadata": {
        "id": "M8Z3K2ULN7tc"
      },
      "source": [
        "**Finding the Correlation Between Hours of Study and Score**"
      ]
    },
    {
      "cell_type": "code",
      "metadata": {
        "colab": {
          "base_uri": "https://localhost:8080/"
        },
        "id": "rboCBE55OHam",
        "outputId": "54dd1be2-c11a-435e-f48c-c6d3bcbb793e"
      },
      "source": [
        "(data['Hours']).corr(data['Scores'])"
      ],
      "execution_count": 11,
      "outputs": [
        {
          "output_type": "execute_result",
          "data": {
            "text/plain": [
              "0.9761906560220887"
            ]
          },
          "metadata": {
            "tags": []
          },
          "execution_count": 11
        }
      ]
    },
    {
      "cell_type": "markdown",
      "metadata": {
        "id": "ja4Kl_89OQFE"
      },
      "source": [
        "The correlation Between the two columns is almost equal to what is Described as highly correlated"
      ]
    },
    {
      "cell_type": "markdown",
      "metadata": {
        "id": "oGt3GUgpOgQ6"
      },
      "source": [
        "**Train the Model**"
      ]
    },
    {
      "cell_type": "code",
      "metadata": {
        "id": "TkaOY7ZWOj2W"
      },
      "source": [
        "\n",
        "# considering the hours to be as the independent variable and scores as the dependent variable\n",
        "\n",
        "#Independent variable X \n",
        "X = data['Hours'].to_numpy().reshape(-1,1)\n",
        "\n",
        "# dependent variable y\n",
        "y =data['Scores'].to_numpy().reshape(-1,1)"
      ],
      "execution_count": 12,
      "outputs": []
    },
    {
      "cell_type": "code",
      "metadata": {
        "id": "zXS8hymCOrRx"
      },
      "source": [
        "\n",
        "# Using the 'scikit-learn' library, we will be spliting the data to train and test sets.\n",
        "\n",
        "from sklearn.model_selection import train_test_split\n",
        "X_train, X_test, y_train, y_test = train_test_split(X, y, test_size=0.10, random_state=42)"
      ],
      "execution_count": 13,
      "outputs": []
    },
    {
      "cell_type": "markdown",
      "metadata": {
        "id": "1c_Fz5XgOvqV"
      },
      "source": [
        "**Now the data is divided into the train and the test which makes it possible to go further to develop the model using regression fit scikit-learn**"
      ]
    },
    {
      "cell_type": "code",
      "metadata": {
        "colab": {
          "base_uri": "https://localhost:8080/"
        },
        "id": "rYZxj98KPQ7L",
        "outputId": "53aebc09-5b64-4916-d9a1-3956b384ba5b"
      },
      "source": [
        "from sklearn.linear_model import LinearRegression  \n",
        "reg = LinearRegression()  \n",
        "reg.fit(X_train, y_train) \n",
        "\n",
        "print(\"Training complete.\")"
      ],
      "execution_count": 15,
      "outputs": [
        {
          "output_type": "stream",
          "text": [
            "Training complete.\n"
          ],
          "name": "stdout"
        }
      ]
    },
    {
      "cell_type": "code",
      "metadata": {
        "colab": {
          "base_uri": "https://localhost:8080/"
        },
        "id": "U7qTNAhLPZYy",
        "outputId": "76d850a4-7abf-4604-9bf2-2e792db19332"
      },
      "source": [
        "print(\"intercept =\",reg.intercept_,\"coeff is =\",reg.coef_)"
      ],
      "execution_count": 16,
      "outputs": [
        {
          "output_type": "stream",
          "text": [
            "intercept = [2.69128676] coeff is = [[9.78385439]]\n"
          ],
          "name": "stdout"
        }
      ]
    },
    {
      "cell_type": "code",
      "metadata": {
        "colab": {
          "base_uri": "https://localhost:8080/"
        },
        "id": "f9koNWEbPezu",
        "outputId": "e15cadbe-a3a2-4790-ab1a-0c6928b2eae1"
      },
      "source": [
        "print(\"intercept =\",reg.intercept_,\"coeff is =\",reg.coef_)"
      ],
      "execution_count": 17,
      "outputs": [
        {
          "output_type": "stream",
          "text": [
            "intercept = [2.69128676] coeff is = [[9.78385439]]\n"
          ],
          "name": "stdout"
        }
      ]
    },
    {
      "cell_type": "code",
      "metadata": {
        "colab": {
          "base_uri": "https://localhost:8080/",
          "height": 265
        },
        "id": "9bp86wsAPinT",
        "outputId": "1723aa08-4ef2-4949-ecf2-51cc5dd3e2c0"
      },
      "source": [
        "line = reg.coef_*X+reg.intercept_\n",
        "\n",
        "# Plotting for the test data\n",
        "plt.scatter(X, y)\n",
        "plt.plot(X, line);\n",
        "plt.show()"
      ],
      "execution_count": 18,
      "outputs": [
        {
          "output_type": "display_data",
          "data": {
            "image/png": "[encoded data removed]",
            "text/plain": [
              "<Figure size 432x288 with 1 Axes>"
            ]
          },
          "metadata": {
            "tags": [],
            "needs_background": "light"
          }
        }
      ]
    },
    {
      "cell_type": "markdown",
      "metadata": {
        "id": "de_1opV5Pn_9"
      },
      "source": [
        "**Predicting on The DATASET**"
      ]
    },
    {
      "cell_type": "code",
      "metadata": {
        "colab": {
          "base_uri": "https://localhost:8080/"
        },
        "id": "aAI2JWL4PthO",
        "outputId": "931e4061-e8c5-49bf-f753-58160f58a595"
      },
      "source": [
        "yhat = reg.predict(X_test)\n",
        "print(\"prediction\",yhat)\n",
        "print(\"actual\",y_test)"
      ],
      "execution_count": 20,
      "outputs": [
        {
          "output_type": "stream",
          "text": [
            "prediction [[83.89727817]\n",
            " [27.15092273]\n",
            " [27.15092273]]\n",
            "actual [[81]\n",
            " [30]\n",
            " [21]]\n"
          ],
          "name": "stdout"
        }
      ]
    },
    {
      "cell_type": "markdown",
      "metadata": {
        "id": "-YHob9QJP3SL"
      },
      "source": [
        "**Once the Prection is done Lets verify the accuracy of the model**"
      ]
    },
    {
      "cell_type": "code",
      "metadata": {
        "colab": {
          "base_uri": "https://localhost:8080/"
        },
        "id": "DB_oeGHKQDPv",
        "outputId": "4c57e533-a2ba-4c98-8d4f-94c613fb1700"
      },
      "source": [
        "\n",
        "reg.score(X_test,y_test)"
      ],
      "execution_count": 21,
      "outputs": [
        {
          "output_type": "execute_result",
          "data": {
            "text/plain": [
              "0.974047128713709"
            ]
          },
          "metadata": {
            "tags": []
          },
          "execution_count": 21
        }
      ]
    },
    {
      "cell_type": "markdown",
      "metadata": {
        "id": "674Azw2fQJ9-"
      },
      "source": [
        "As we can see here the accuracy obtained is around 97.40% which is approximately **97%**"
      ]
    },
    {
      "cell_type": "markdown",
      "metadata": {
        "id": "zZOf-_zOQaDq"
      },
      "source": [
        "**Lets Predict score if a student studies for 9 Hours** "
      ]
    },
    {
      "cell_type": "code",
      "metadata": {
        "colab": {
          "base_uri": "https://localhost:8080/"
        },
        "id": "U2MjM8-DRcxr",
        "outputId": "d61c0cb6-23b5-41ab-9f4b-90262af84a94"
      },
      "source": [
        "hours = np.array([9]).reshape(-1,1)\n",
        "pred = reg.predict(hours)\n",
        "print(\"No of Hours = {}\".format(hours))\n",
        "print(\"Predicted Score = {}\".format(pred[0]))"
      ],
      "execution_count": 22,
      "outputs": [
        {
          "output_type": "stream",
          "text": [
            "No of Hours = [[9]]\n",
            "Predicted Score = [90.74597624]\n"
          ],
          "name": "stdout"
        }
      ]
    },
    {
      "cell_type": "markdown",
      "metadata": {
        "id": "_pXZXQDARk37"
      },
      "source": [
        "**Lets Predict score if a student studies for 6 Hours** "
      ]
    },
    {
      "cell_type": "code",
      "metadata": {
        "colab": {
          "base_uri": "https://localhost:8080/"
        },
        "id": "--0kN3jjRpiq",
        "outputId": "323f2e15-9565-4482-d243-75ae625ea266"
      },
      "source": [
        "hours = np.array([6]).reshape(-1,1)\n",
        "pred = reg.predict(hours)\n",
        "print(\"No of Hours = {}\".format(hours))\n",
        "print(\"Predicted Score = {}\".format(pred[0]))"
      ],
      "execution_count": 23,
      "outputs": [
        {
          "output_type": "stream",
          "text": [
            "No of Hours = [[6]]\n",
            "Predicted Score = [61.39441308]\n"
          ],
          "name": "stdout"
        }
      ]
    },
    {
      "cell_type": "markdown",
      "metadata": {
        "id": "Uzs6Yi2nR057"
      },
      "source": [
        "**Model Evaluation**"
      ]
    },
    {
      "cell_type": "code",
      "metadata": {
        "colab": {
          "base_uri": "https://localhost:8080/"
        },
        "id": "f2lXpg0RR5FF",
        "outputId": "b84b6c84-03e1-40b6-c9c6-1c661bcfb670"
      },
      "source": [
        "from sklearn.metrics import mean_squared_error\n",
        "from sklearn.metrics import r2_score\n",
        "print(\"the RMS value is \",mean_squared_error(y_test, yhat))\n",
        "print(\"the RMSE value is\",mean_squared_error(y_test, yhat, squared=False))\n",
        "print(\"the R2 eroor is \",r2_score(y_test, yhat))"
      ],
      "execution_count": 24,
      "outputs": [
        {
          "output_type": "stream",
          "text": [
            "the RMS value is  18.1151041578311\n",
            "the RMSE value is 4.256184225081323\n",
            "the R2 eroor is  0.974047128713709\n"
          ],
          "name": "stdout"
        }
      ]
    },
    {
      "cell_type": "markdown",
      "metadata": {
        "id": "4e6Rxe_nR9dQ"
      },
      "source": [
        "**Conclusion**\n",
        "\n",
        "Here we have obtained the accuracy of **97%** \n"
      ]
    }
  ]
}
